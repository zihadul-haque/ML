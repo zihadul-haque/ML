{
  "nbformat": 4,
  "nbformat_minor": 0,
  "metadata": {
    "colab": {
      "provenance": [],
      "toc_visible": true,
      "authorship_tag": "ABX9TyM4BlBX3+EsisOha7UwL8OM"
    },
    "kernelspec": {
      "name": "python3",
      "display_name": "Python 3"
    },
    "language_info": {
      "name": "python"
    }
  },
  "cells": [
    {
      "cell_type": "code",
      "execution_count": null,
      "metadata": {
        "id": "HamJw1qUrhO0"
      },
      "outputs": [],
      "source": [
        "from sklearn.pipeline import Pipeline\n",
        "## feature scaling\n",
        "from sklearn.preprocessing import StandardScaler\n",
        "from sklearn.linear_model import LogisticRegression\n"
      ]
    },
    {
      "cell_type": "code",
      "source": [
        "steps=[(\"standard_scaler\", StandardScaler()),\n",
        "       (\"classifier\",LogisticRegression())] #must be supplied in the form of key value pair."
      ],
      "metadata": {
        "id": "HD9TP6FIsYy_"
      },
      "execution_count": null,
      "outputs": []
    },
    {
      "cell_type": "code",
      "source": [
        "steps"
      ],
      "metadata": {
        "colab": {
          "base_uri": "https://localhost:8080/"
        },
        "id": "WdvOR_mOs9Ks",
        "outputId": "42ef55ff-93b6-42aa-896a-8c4b8960262b"
      },
      "execution_count": null,
      "outputs": [
        {
          "output_type": "execute_result",
          "data": {
            "text/plain": [
              "[('standard_scaler', StandardScaler()), ('classifier', LogisticRegression())]"
            ]
          },
          "metadata": {},
          "execution_count": 4
        }
      ]
    },
    {
      "cell_type": "code",
      "source": [
        "pipe=Pipeline(steps)"
      ],
      "metadata": {
        "id": "CQAhhmQxs_r0"
      },
      "execution_count": null,
      "outputs": []
    },
    {
      "cell_type": "code",
      "source": [
        "# visualize pipeline\n",
        "from sklearn import set_config\n"
      ],
      "metadata": {
        "id": "3JMomIAMtfyW"
      },
      "execution_count": null,
      "outputs": []
    },
    {
      "cell_type": "code",
      "source": [
        "set_config(display=\"diagram\")"
      ],
      "metadata": {
        "id": "tcv2GJuotwU8"
      },
      "execution_count": null,
      "outputs": []
    },
    {
      "cell_type": "code",
      "source": [
        "pipe"
      ],
      "metadata": {
        "colab": {
          "base_uri": "https://localhost:8080/",
          "height": 167
        },
        "id": "619wmcQHt30r",
        "outputId": "4421c48a-d37c-421b-e37c-3845a9c4f7c4"
      },
      "execution_count": null,
      "outputs": [
        {
          "output_type": "execute_result",
          "data": {
            "text/plain": [
              "Pipeline(steps=[('standard_scaler', StandardScaler()),\n",
              "                ('classifier', LogisticRegression())])"
            ],
            "text/html": [
              "<style>#sk-8f995227-23b3-46ce-a739-395fcdfbd7f2 {color: black;background-color: white;}#sk-8f995227-23b3-46ce-a739-395fcdfbd7f2 pre{padding: 0;}#sk-8f995227-23b3-46ce-a739-395fcdfbd7f2 div.sk-toggleable {background-color: white;}#sk-8f995227-23b3-46ce-a739-395fcdfbd7f2 label.sk-toggleable__label {cursor: pointer;display: block;width: 100%;margin-bottom: 0;padding: 0.3em;box-sizing: border-box;text-align: center;}#sk-8f995227-23b3-46ce-a739-395fcdfbd7f2 label.sk-toggleable__label-arrow:before {content: \"▸\";float: left;margin-right: 0.25em;color: #696969;}#sk-8f995227-23b3-46ce-a739-395fcdfbd7f2 label.sk-toggleable__label-arrow:hover:before {color: black;}#sk-8f995227-23b3-46ce-a739-395fcdfbd7f2 div.sk-estimator:hover label.sk-toggleable__label-arrow:before {color: black;}#sk-8f995227-23b3-46ce-a739-395fcdfbd7f2 div.sk-toggleable__content {max-height: 0;max-width: 0;overflow: hidden;text-align: left;background-color: #f0f8ff;}#sk-8f995227-23b3-46ce-a739-395fcdfbd7f2 div.sk-toggleable__content pre {margin: 0.2em;color: black;border-radius: 0.25em;background-color: #f0f8ff;}#sk-8f995227-23b3-46ce-a739-395fcdfbd7f2 input.sk-toggleable__control:checked~div.sk-toggleable__content {max-height: 200px;max-width: 100%;overflow: auto;}#sk-8f995227-23b3-46ce-a739-395fcdfbd7f2 input.sk-toggleable__control:checked~label.sk-toggleable__label-arrow:before {content: \"▾\";}#sk-8f995227-23b3-46ce-a739-395fcdfbd7f2 div.sk-estimator input.sk-toggleable__control:checked~label.sk-toggleable__label {background-color: #d4ebff;}#sk-8f995227-23b3-46ce-a739-395fcdfbd7f2 div.sk-label input.sk-toggleable__control:checked~label.sk-toggleable__label {background-color: #d4ebff;}#sk-8f995227-23b3-46ce-a739-395fcdfbd7f2 input.sk-hidden--visually {border: 0;clip: rect(1px 1px 1px 1px);clip: rect(1px, 1px, 1px, 1px);height: 1px;margin: -1px;overflow: hidden;padding: 0;position: absolute;width: 1px;}#sk-8f995227-23b3-46ce-a739-395fcdfbd7f2 div.sk-estimator {font-family: monospace;background-color: #f0f8ff;border: 1px dotted black;border-radius: 0.25em;box-sizing: border-box;margin-bottom: 0.5em;}#sk-8f995227-23b3-46ce-a739-395fcdfbd7f2 div.sk-estimator:hover {background-color: #d4ebff;}#sk-8f995227-23b3-46ce-a739-395fcdfbd7f2 div.sk-parallel-item::after {content: \"\";width: 100%;border-bottom: 1px solid gray;flex-grow: 1;}#sk-8f995227-23b3-46ce-a739-395fcdfbd7f2 div.sk-label:hover label.sk-toggleable__label {background-color: #d4ebff;}#sk-8f995227-23b3-46ce-a739-395fcdfbd7f2 div.sk-serial::before {content: \"\";position: absolute;border-left: 1px solid gray;box-sizing: border-box;top: 2em;bottom: 0;left: 50%;}#sk-8f995227-23b3-46ce-a739-395fcdfbd7f2 div.sk-serial {display: flex;flex-direction: column;align-items: center;background-color: white;padding-right: 0.2em;padding-left: 0.2em;}#sk-8f995227-23b3-46ce-a739-395fcdfbd7f2 div.sk-item {z-index: 1;}#sk-8f995227-23b3-46ce-a739-395fcdfbd7f2 div.sk-parallel {display: flex;align-items: stretch;justify-content: center;background-color: white;}#sk-8f995227-23b3-46ce-a739-395fcdfbd7f2 div.sk-parallel::before {content: \"\";position: absolute;border-left: 1px solid gray;box-sizing: border-box;top: 2em;bottom: 0;left: 50%;}#sk-8f995227-23b3-46ce-a739-395fcdfbd7f2 div.sk-parallel-item {display: flex;flex-direction: column;position: relative;background-color: white;}#sk-8f995227-23b3-46ce-a739-395fcdfbd7f2 div.sk-parallel-item:first-child::after {align-self: flex-end;width: 50%;}#sk-8f995227-23b3-46ce-a739-395fcdfbd7f2 div.sk-parallel-item:last-child::after {align-self: flex-start;width: 50%;}#sk-8f995227-23b3-46ce-a739-395fcdfbd7f2 div.sk-parallel-item:only-child::after {width: 0;}#sk-8f995227-23b3-46ce-a739-395fcdfbd7f2 div.sk-dashed-wrapped {border: 1px dashed gray;margin: 0 0.4em 0.5em 0.4em;box-sizing: border-box;padding-bottom: 0.4em;background-color: white;position: relative;}#sk-8f995227-23b3-46ce-a739-395fcdfbd7f2 div.sk-label label {font-family: monospace;font-weight: bold;background-color: white;display: inline-block;line-height: 1.2em;}#sk-8f995227-23b3-46ce-a739-395fcdfbd7f2 div.sk-label-container {position: relative;z-index: 2;text-align: center;}#sk-8f995227-23b3-46ce-a739-395fcdfbd7f2 div.sk-container {/* jupyter's `normalize.less` sets `[hidden] { display: none; }` but bootstrap.min.css set `[hidden] { display: none !important; }` so we also need the `!important` here to be able to override the default hidden behavior on the sphinx rendered scikit-learn.org. See: https://github.com/scikit-learn/scikit-learn/issues/21755 */display: inline-block !important;position: relative;}#sk-8f995227-23b3-46ce-a739-395fcdfbd7f2 div.sk-text-repr-fallback {display: none;}</style><div id=\"sk-8f995227-23b3-46ce-a739-395fcdfbd7f2\" class=\"sk-top-container\"><div class=\"sk-text-repr-fallback\"><pre>Pipeline(steps=[(&#x27;standard_scaler&#x27;, StandardScaler()),\n",
              "                (&#x27;classifier&#x27;, LogisticRegression())])</pre><b>Please rerun this cell to show the HTML repr or trust the notebook.</b></div><div class=\"sk-container\" hidden><div class=\"sk-item sk-dashed-wrapped\"><div class=\"sk-label-container\"><div class=\"sk-label sk-toggleable\"><input class=\"sk-toggleable__control sk-hidden--visually\" id=\"d32db31f-637a-4301-9c41-cd5c0292c537\" type=\"checkbox\" ><label for=\"d32db31f-637a-4301-9c41-cd5c0292c537\" class=\"sk-toggleable__label sk-toggleable__label-arrow\">Pipeline</label><div class=\"sk-toggleable__content\"><pre>Pipeline(steps=[(&#x27;standard_scaler&#x27;, StandardScaler()),\n",
              "                (&#x27;classifier&#x27;, LogisticRegression())])</pre></div></div></div><div class=\"sk-serial\"><div class=\"sk-item\"><div class=\"sk-estimator sk-toggleable\"><input class=\"sk-toggleable__control sk-hidden--visually\" id=\"fab76fd8-900c-4c79-8731-d84708c14169\" type=\"checkbox\" ><label for=\"fab76fd8-900c-4c79-8731-d84708c14169\" class=\"sk-toggleable__label sk-toggleable__label-arrow\">StandardScaler</label><div class=\"sk-toggleable__content\"><pre>StandardScaler()</pre></div></div></div><div class=\"sk-item\"><div class=\"sk-estimator sk-toggleable\"><input class=\"sk-toggleable__control sk-hidden--visually\" id=\"c752e4d6-64a5-46ce-b650-97759a3c76d6\" type=\"checkbox\" ><label for=\"c752e4d6-64a5-46ce-b650-97759a3c76d6\" class=\"sk-toggleable__label sk-toggleable__label-arrow\">LogisticRegression</label><div class=\"sk-toggleable__content\"><pre>LogisticRegression()</pre></div></div></div></div></div></div></div>"
            ]
          },
          "metadata": {},
          "execution_count": 9
        }
      ]
    },
    {
      "cell_type": "code",
      "source": [
        "## creating a dataset\n",
        "from sklearn.datasets import make_classification\n",
        "X,y =make_classification(n_samples=1000)"
      ],
      "metadata": {
        "id": "vbp7QZnCt5n7"
      },
      "execution_count": null,
      "outputs": []
    },
    {
      "cell_type": "code",
      "source": [
        "X.shape"
      ],
      "metadata": {
        "colab": {
          "base_uri": "https://localhost:8080/"
        },
        "id": "PP-R2ul9uhMQ",
        "outputId": "f82f36d7-ee8b-4c65-b978-40a7539cf2ce"
      },
      "execution_count": null,
      "outputs": [
        {
          "output_type": "execute_result",
          "data": {
            "text/plain": [
              "(1000, 20)"
            ]
          },
          "metadata": {},
          "execution_count": 11
        }
      ]
    },
    {
      "cell_type": "code",
      "source": [
        "from sklearn.model_selection import train_test_split\n",
        "X_train, X_test, y_train, y_test = train_test_split(\n",
        "    X, y, test_size=0.33, random_state=42)"
      ],
      "metadata": {
        "id": "8v_FsBq0ujS4"
      },
      "execution_count": null,
      "outputs": []
    },
    {
      "cell_type": "code",
      "source": [
        "X_train.shape"
      ],
      "metadata": {
        "colab": {
          "base_uri": "https://localhost:8080/"
        },
        "id": "a7TFTXO-vDat",
        "outputId": "02ff047d-227a-44a7-8571-7158f81067ad"
      },
      "execution_count": null,
      "outputs": [
        {
          "output_type": "execute_result",
          "data": {
            "text/plain": [
              "(670, 20)"
            ]
          },
          "metadata": {},
          "execution_count": 13
        }
      ]
    },
    {
      "cell_type": "code",
      "source": [
        "pipe.fit(X_train,y_train)"
      ],
      "metadata": {
        "colab": {
          "base_uri": "https://localhost:8080/",
          "height": 126
        },
        "id": "T2jCLrEgvL_g",
        "outputId": "c0076411-53e8-4824-a589-72ff0a56375b"
      },
      "execution_count": null,
      "outputs": [
        {
          "output_type": "execute_result",
          "data": {
            "text/plain": [
              "Pipeline(steps=[('standard_scaler', StandardScaler()),\n",
              "                ('classifier', LogisticRegression())])"
            ],
            "text/html": [
              "<style>#sk-add8b651-e5a1-4893-8ce4-4832fb6c45fe {color: black;background-color: white;}#sk-add8b651-e5a1-4893-8ce4-4832fb6c45fe pre{padding: 0;}#sk-add8b651-e5a1-4893-8ce4-4832fb6c45fe div.sk-toggleable {background-color: white;}#sk-add8b651-e5a1-4893-8ce4-4832fb6c45fe label.sk-toggleable__label {cursor: pointer;display: block;width: 100%;margin-bottom: 0;padding: 0.3em;box-sizing: border-box;text-align: center;}#sk-add8b651-e5a1-4893-8ce4-4832fb6c45fe label.sk-toggleable__label-arrow:before {content: \"▸\";float: left;margin-right: 0.25em;color: #696969;}#sk-add8b651-e5a1-4893-8ce4-4832fb6c45fe label.sk-toggleable__label-arrow:hover:before {color: black;}#sk-add8b651-e5a1-4893-8ce4-4832fb6c45fe div.sk-estimator:hover label.sk-toggleable__label-arrow:before {color: black;}#sk-add8b651-e5a1-4893-8ce4-4832fb6c45fe div.sk-toggleable__content {max-height: 0;max-width: 0;overflow: hidden;text-align: left;background-color: #f0f8ff;}#sk-add8b651-e5a1-4893-8ce4-4832fb6c45fe div.sk-toggleable__content pre {margin: 0.2em;color: black;border-radius: 0.25em;background-color: #f0f8ff;}#sk-add8b651-e5a1-4893-8ce4-4832fb6c45fe input.sk-toggleable__control:checked~div.sk-toggleable__content {max-height: 200px;max-width: 100%;overflow: auto;}#sk-add8b651-e5a1-4893-8ce4-4832fb6c45fe input.sk-toggleable__control:checked~label.sk-toggleable__label-arrow:before {content: \"▾\";}#sk-add8b651-e5a1-4893-8ce4-4832fb6c45fe div.sk-estimator input.sk-toggleable__control:checked~label.sk-toggleable__label {background-color: #d4ebff;}#sk-add8b651-e5a1-4893-8ce4-4832fb6c45fe div.sk-label input.sk-toggleable__control:checked~label.sk-toggleable__label {background-color: #d4ebff;}#sk-add8b651-e5a1-4893-8ce4-4832fb6c45fe input.sk-hidden--visually {border: 0;clip: rect(1px 1px 1px 1px);clip: rect(1px, 1px, 1px, 1px);height: 1px;margin: -1px;overflow: hidden;padding: 0;position: absolute;width: 1px;}#sk-add8b651-e5a1-4893-8ce4-4832fb6c45fe div.sk-estimator {font-family: monospace;background-color: #f0f8ff;border: 1px dotted black;border-radius: 0.25em;box-sizing: border-box;margin-bottom: 0.5em;}#sk-add8b651-e5a1-4893-8ce4-4832fb6c45fe div.sk-estimator:hover {background-color: #d4ebff;}#sk-add8b651-e5a1-4893-8ce4-4832fb6c45fe div.sk-parallel-item::after {content: \"\";width: 100%;border-bottom: 1px solid gray;flex-grow: 1;}#sk-add8b651-e5a1-4893-8ce4-4832fb6c45fe div.sk-label:hover label.sk-toggleable__label {background-color: #d4ebff;}#sk-add8b651-e5a1-4893-8ce4-4832fb6c45fe div.sk-serial::before {content: \"\";position: absolute;border-left: 1px solid gray;box-sizing: border-box;top: 2em;bottom: 0;left: 50%;}#sk-add8b651-e5a1-4893-8ce4-4832fb6c45fe div.sk-serial {display: flex;flex-direction: column;align-items: center;background-color: white;padding-right: 0.2em;padding-left: 0.2em;}#sk-add8b651-e5a1-4893-8ce4-4832fb6c45fe div.sk-item {z-index: 1;}#sk-add8b651-e5a1-4893-8ce4-4832fb6c45fe div.sk-parallel {display: flex;align-items: stretch;justify-content: center;background-color: white;}#sk-add8b651-e5a1-4893-8ce4-4832fb6c45fe div.sk-parallel::before {content: \"\";position: absolute;border-left: 1px solid gray;box-sizing: border-box;top: 2em;bottom: 0;left: 50%;}#sk-add8b651-e5a1-4893-8ce4-4832fb6c45fe div.sk-parallel-item {display: flex;flex-direction: column;position: relative;background-color: white;}#sk-add8b651-e5a1-4893-8ce4-4832fb6c45fe div.sk-parallel-item:first-child::after {align-self: flex-end;width: 50%;}#sk-add8b651-e5a1-4893-8ce4-4832fb6c45fe div.sk-parallel-item:last-child::after {align-self: flex-start;width: 50%;}#sk-add8b651-e5a1-4893-8ce4-4832fb6c45fe div.sk-parallel-item:only-child::after {width: 0;}#sk-add8b651-e5a1-4893-8ce4-4832fb6c45fe div.sk-dashed-wrapped {border: 1px dashed gray;margin: 0 0.4em 0.5em 0.4em;box-sizing: border-box;padding-bottom: 0.4em;background-color: white;position: relative;}#sk-add8b651-e5a1-4893-8ce4-4832fb6c45fe div.sk-label label {font-family: monospace;font-weight: bold;background-color: white;display: inline-block;line-height: 1.2em;}#sk-add8b651-e5a1-4893-8ce4-4832fb6c45fe div.sk-label-container {position: relative;z-index: 2;text-align: center;}#sk-add8b651-e5a1-4893-8ce4-4832fb6c45fe div.sk-container {/* jupyter's `normalize.less` sets `[hidden] { display: none; }` but bootstrap.min.css set `[hidden] { display: none !important; }` so we also need the `!important` here to be able to override the default hidden behavior on the sphinx rendered scikit-learn.org. See: https://github.com/scikit-learn/scikit-learn/issues/21755 */display: inline-block !important;position: relative;}#sk-add8b651-e5a1-4893-8ce4-4832fb6c45fe div.sk-text-repr-fallback {display: none;}</style><div id=\"sk-add8b651-e5a1-4893-8ce4-4832fb6c45fe\" class=\"sk-top-container\"><div class=\"sk-text-repr-fallback\"><pre>Pipeline(steps=[(&#x27;standard_scaler&#x27;, StandardScaler()),\n",
              "                (&#x27;classifier&#x27;, LogisticRegression())])</pre><b>Please rerun this cell to show the HTML repr or trust the notebook.</b></div><div class=\"sk-container\" hidden><div class=\"sk-item sk-dashed-wrapped\"><div class=\"sk-label-container\"><div class=\"sk-label sk-toggleable\"><input class=\"sk-toggleable__control sk-hidden--visually\" id=\"746ee718-43cb-40c6-85f9-d23405adb707\" type=\"checkbox\" ><label for=\"746ee718-43cb-40c6-85f9-d23405adb707\" class=\"sk-toggleable__label sk-toggleable__label-arrow\">Pipeline</label><div class=\"sk-toggleable__content\"><pre>Pipeline(steps=[(&#x27;standard_scaler&#x27;, StandardScaler()),\n",
              "                (&#x27;classifier&#x27;, LogisticRegression())])</pre></div></div></div><div class=\"sk-serial\"><div class=\"sk-item\"><div class=\"sk-estimator sk-toggleable\"><input class=\"sk-toggleable__control sk-hidden--visually\" id=\"9da84a38-0344-4397-a1a8-f385f9e4c3ca\" type=\"checkbox\" ><label for=\"9da84a38-0344-4397-a1a8-f385f9e4c3ca\" class=\"sk-toggleable__label sk-toggleable__label-arrow\">StandardScaler</label><div class=\"sk-toggleable__content\"><pre>StandardScaler()</pre></div></div></div><div class=\"sk-item\"><div class=\"sk-estimator sk-toggleable\"><input class=\"sk-toggleable__control sk-hidden--visually\" id=\"ecd1aa2a-69ef-4540-b67a-c1c67487985e\" type=\"checkbox\" ><label for=\"ecd1aa2a-69ef-4540-b67a-c1c67487985e\" class=\"sk-toggleable__label sk-toggleable__label-arrow\">LogisticRegression</label><div class=\"sk-toggleable__content\"><pre>LogisticRegression()</pre></div></div></div></div></div></div></div>"
            ]
          },
          "metadata": {},
          "execution_count": 14
        }
      ]
    },
    {
      "cell_type": "code",
      "source": [
        "pipe.predict(X_test)"
      ],
      "metadata": {
        "colab": {
          "base_uri": "https://localhost:8080/"
        },
        "id": "XBbZLNcrvS9o",
        "outputId": "5326d42f-2816-4423-b491-9b7aa4d8f856"
      },
      "execution_count": null,
      "outputs": [
        {
          "output_type": "execute_result",
          "data": {
            "text/plain": [
              "array([1, 1, 0, 0, 0, 1, 1, 1, 0, 1, 1, 0, 0, 0, 0, 1, 0, 0, 1, 0, 0, 1,\n",
              "       1, 1, 1, 1, 0, 1, 0, 0, 0, 1, 1, 0, 0, 1, 0, 1, 0, 1, 0, 0, 0, 0,\n",
              "       0, 0, 0, 0, 0, 1, 1, 0, 0, 1, 1, 1, 0, 1, 0, 0, 1, 0, 0, 1, 0, 0,\n",
              "       0, 0, 0, 1, 1, 0, 0, 1, 1, 1, 1, 0, 1, 0, 0, 0, 1, 0, 0, 0, 0, 1,\n",
              "       0, 1, 0, 1, 0, 0, 0, 0, 1, 0, 0, 0, 0, 0, 0, 0, 1, 0, 1, 0, 1, 0,\n",
              "       0, 0, 1, 1, 0, 1, 0, 0, 0, 1, 1, 1, 1, 0, 1, 1, 1, 1, 1, 0, 0, 1,\n",
              "       0, 0, 1, 0, 1, 1, 0, 1, 1, 0, 0, 1, 1, 1, 1, 0, 1, 1, 1, 0, 0, 1,\n",
              "       1, 1, 1, 0, 0, 0, 0, 0, 1, 1, 0, 1, 1, 0, 1, 0, 1, 1, 1, 0, 1, 1,\n",
              "       0, 1, 1, 1, 1, 0, 0, 0, 1, 1, 0, 1, 0, 0, 0, 0, 0, 0, 1, 1, 1, 1,\n",
              "       0, 1, 0, 1, 0, 1, 0, 1, 0, 1, 0, 1, 1, 1, 0, 0, 1, 0, 1, 1, 0, 0,\n",
              "       1, 0, 1, 0, 1, 1, 1, 0, 0, 0, 0, 0, 1, 1, 0, 1, 1, 0, 0, 0, 1, 0,\n",
              "       0, 1, 0, 0, 0, 0, 1, 1, 1, 1, 1, 1, 0, 1, 0, 0, 0, 0, 0, 1, 0, 1,\n",
              "       0, 0, 0, 0, 0, 0, 1, 1, 0, 0, 1, 1, 1, 1, 1, 1, 0, 1, 0, 0, 0, 1,\n",
              "       1, 1, 1, 0, 0, 1, 1, 1, 0, 1, 0, 1, 0, 0, 1, 1, 0, 0, 1, 0, 1, 1,\n",
              "       0, 1, 0, 0, 1, 1, 1, 1, 1, 0, 0, 0, 1, 1, 1, 0, 1, 1, 0, 1, 0, 1])"
            ]
          },
          "metadata": {},
          "execution_count": 15
        }
      ]
    },
    {
      "cell_type": "markdown",
      "source": [
        "# Example 2\n",
        "## Displaying a pipeline with standard scaler , dimensionality reduction and then estimator"
      ],
      "metadata": {
        "id": "nNPWRw5vvuCB"
      }
    },
    {
      "cell_type": "code",
      "source": [
        "from sklearn.decomposition import PCA\n",
        "from sklearn.svm import SVC\n"
      ],
      "metadata": {
        "id": "8nPtifZfvf0Y"
      },
      "execution_count": null,
      "outputs": []
    },
    {
      "cell_type": "code",
      "source": [
        "steps=[(\"scaling\",StandardScaler()),\n",
        "       (\"PCA\",PCA(n_components=5)),\n",
        "       (\"SVC\",SVC())]"
      ],
      "metadata": {
        "id": "jd9-cTJA-SO0"
      },
      "execution_count": null,
      "outputs": []
    },
    {
      "cell_type": "code",
      "source": [
        "pipe2=Pipeline(steps)"
      ],
      "metadata": {
        "id": "J0vXPGI4-yL5"
      },
      "execution_count": null,
      "outputs": []
    },
    {
      "cell_type": "code",
      "source": [
        "pipe2['scaling'].fit_transform(X_train)"
      ],
      "metadata": {
        "colab": {
          "base_uri": "https://localhost:8080/"
        },
        "id": "MKMEmvz--1ew",
        "outputId": "a5b77dec-4076-47c0-95c2-dfb1af295f74"
      },
      "execution_count": null,
      "outputs": [
        {
          "output_type": "execute_result",
          "data": {
            "text/plain": [
              "array([[-0.64413646, -0.08826083,  0.59307829, ...,  0.64365486,\n",
              "        -0.67095089, -1.1521928 ],\n",
              "       [ 1.06447581,  0.33961799, -0.71126207, ..., -0.61135852,\n",
              "         0.29801318, -1.16947566],\n",
              "       [-0.71216841, -0.66135539, -1.14836694, ..., -0.42853658,\n",
              "        -0.64482586,  0.79101648],\n",
              "       ...,\n",
              "       [-1.18975833,  0.81118867,  1.44256283, ..., -0.72856611,\n",
              "        -0.40525321, -1.44394195],\n",
              "       [ 0.62797223, -1.62450024, -0.19550765, ...,  1.56801731,\n",
              "         0.29084958,  0.42171149],\n",
              "       [ 1.86030535, -0.57071441,  0.43464819, ...,  0.4911462 ,\n",
              "         1.24400083, -1.97919781]])"
            ]
          },
          "metadata": {},
          "execution_count": 20
        }
      ]
    },
    {
      "cell_type": "code",
      "source": [
        "pipe2.fit(X_train,y_train)"
      ],
      "metadata": {
        "colab": {
          "base_uri": "https://localhost:8080/",
          "height": 161
        },
        "id": "43GETEE5_OkR",
        "outputId": "a3001283-5107-464e-c08b-4d1011081179"
      },
      "execution_count": null,
      "outputs": [
        {
          "output_type": "execute_result",
          "data": {
            "text/plain": [
              "Pipeline(steps=[('scaling', StandardScaler()), ('PCA', PCA(n_components=5)),\n",
              "                ('SVC', SVC())])"
            ],
            "text/html": [
              "<style>#sk-cce0eb9c-1502-4fe2-ba67-8cd5d683e21a {color: black;background-color: white;}#sk-cce0eb9c-1502-4fe2-ba67-8cd5d683e21a pre{padding: 0;}#sk-cce0eb9c-1502-4fe2-ba67-8cd5d683e21a div.sk-toggleable {background-color: white;}#sk-cce0eb9c-1502-4fe2-ba67-8cd5d683e21a label.sk-toggleable__label {cursor: pointer;display: block;width: 100%;margin-bottom: 0;padding: 0.3em;box-sizing: border-box;text-align: center;}#sk-cce0eb9c-1502-4fe2-ba67-8cd5d683e21a label.sk-toggleable__label-arrow:before {content: \"▸\";float: left;margin-right: 0.25em;color: #696969;}#sk-cce0eb9c-1502-4fe2-ba67-8cd5d683e21a label.sk-toggleable__label-arrow:hover:before {color: black;}#sk-cce0eb9c-1502-4fe2-ba67-8cd5d683e21a div.sk-estimator:hover label.sk-toggleable__label-arrow:before {color: black;}#sk-cce0eb9c-1502-4fe2-ba67-8cd5d683e21a div.sk-toggleable__content {max-height: 0;max-width: 0;overflow: hidden;text-align: left;background-color: #f0f8ff;}#sk-cce0eb9c-1502-4fe2-ba67-8cd5d683e21a div.sk-toggleable__content pre {margin: 0.2em;color: black;border-radius: 0.25em;background-color: #f0f8ff;}#sk-cce0eb9c-1502-4fe2-ba67-8cd5d683e21a input.sk-toggleable__control:checked~div.sk-toggleable__content {max-height: 200px;max-width: 100%;overflow: auto;}#sk-cce0eb9c-1502-4fe2-ba67-8cd5d683e21a input.sk-toggleable__control:checked~label.sk-toggleable__label-arrow:before {content: \"▾\";}#sk-cce0eb9c-1502-4fe2-ba67-8cd5d683e21a div.sk-estimator input.sk-toggleable__control:checked~label.sk-toggleable__label {background-color: #d4ebff;}#sk-cce0eb9c-1502-4fe2-ba67-8cd5d683e21a div.sk-label input.sk-toggleable__control:checked~label.sk-toggleable__label {background-color: #d4ebff;}#sk-cce0eb9c-1502-4fe2-ba67-8cd5d683e21a input.sk-hidden--visually {border: 0;clip: rect(1px 1px 1px 1px);clip: rect(1px, 1px, 1px, 1px);height: 1px;margin: -1px;overflow: hidden;padding: 0;position: absolute;width: 1px;}#sk-cce0eb9c-1502-4fe2-ba67-8cd5d683e21a div.sk-estimator {font-family: monospace;background-color: #f0f8ff;border: 1px dotted black;border-radius: 0.25em;box-sizing: border-box;margin-bottom: 0.5em;}#sk-cce0eb9c-1502-4fe2-ba67-8cd5d683e21a div.sk-estimator:hover {background-color: #d4ebff;}#sk-cce0eb9c-1502-4fe2-ba67-8cd5d683e21a div.sk-parallel-item::after {content: \"\";width: 100%;border-bottom: 1px solid gray;flex-grow: 1;}#sk-cce0eb9c-1502-4fe2-ba67-8cd5d683e21a div.sk-label:hover label.sk-toggleable__label {background-color: #d4ebff;}#sk-cce0eb9c-1502-4fe2-ba67-8cd5d683e21a div.sk-serial::before {content: \"\";position: absolute;border-left: 1px solid gray;box-sizing: border-box;top: 2em;bottom: 0;left: 50%;}#sk-cce0eb9c-1502-4fe2-ba67-8cd5d683e21a div.sk-serial {display: flex;flex-direction: column;align-items: center;background-color: white;padding-right: 0.2em;padding-left: 0.2em;}#sk-cce0eb9c-1502-4fe2-ba67-8cd5d683e21a div.sk-item {z-index: 1;}#sk-cce0eb9c-1502-4fe2-ba67-8cd5d683e21a div.sk-parallel {display: flex;align-items: stretch;justify-content: center;background-color: white;}#sk-cce0eb9c-1502-4fe2-ba67-8cd5d683e21a div.sk-parallel::before {content: \"\";position: absolute;border-left: 1px solid gray;box-sizing: border-box;top: 2em;bottom: 0;left: 50%;}#sk-cce0eb9c-1502-4fe2-ba67-8cd5d683e21a div.sk-parallel-item {display: flex;flex-direction: column;position: relative;background-color: white;}#sk-cce0eb9c-1502-4fe2-ba67-8cd5d683e21a div.sk-parallel-item:first-child::after {align-self: flex-end;width: 50%;}#sk-cce0eb9c-1502-4fe2-ba67-8cd5d683e21a div.sk-parallel-item:last-child::after {align-self: flex-start;width: 50%;}#sk-cce0eb9c-1502-4fe2-ba67-8cd5d683e21a div.sk-parallel-item:only-child::after {width: 0;}#sk-cce0eb9c-1502-4fe2-ba67-8cd5d683e21a div.sk-dashed-wrapped {border: 1px dashed gray;margin: 0 0.4em 0.5em 0.4em;box-sizing: border-box;padding-bottom: 0.4em;background-color: white;position: relative;}#sk-cce0eb9c-1502-4fe2-ba67-8cd5d683e21a div.sk-label label {font-family: monospace;font-weight: bold;background-color: white;display: inline-block;line-height: 1.2em;}#sk-cce0eb9c-1502-4fe2-ba67-8cd5d683e21a div.sk-label-container {position: relative;z-index: 2;text-align: center;}#sk-cce0eb9c-1502-4fe2-ba67-8cd5d683e21a div.sk-container {/* jupyter's `normalize.less` sets `[hidden] { display: none; }` but bootstrap.min.css set `[hidden] { display: none !important; }` so we also need the `!important` here to be able to override the default hidden behavior on the sphinx rendered scikit-learn.org. See: https://github.com/scikit-learn/scikit-learn/issues/21755 */display: inline-block !important;position: relative;}#sk-cce0eb9c-1502-4fe2-ba67-8cd5d683e21a div.sk-text-repr-fallback {display: none;}</style><div id=\"sk-cce0eb9c-1502-4fe2-ba67-8cd5d683e21a\" class=\"sk-top-container\"><div class=\"sk-text-repr-fallback\"><pre>Pipeline(steps=[(&#x27;scaling&#x27;, StandardScaler()), (&#x27;PCA&#x27;, PCA(n_components=5)),\n",
              "                (&#x27;SVC&#x27;, SVC())])</pre><b>Please rerun this cell to show the HTML repr or trust the notebook.</b></div><div class=\"sk-container\" hidden><div class=\"sk-item sk-dashed-wrapped\"><div class=\"sk-label-container\"><div class=\"sk-label sk-toggleable\"><input class=\"sk-toggleable__control sk-hidden--visually\" id=\"469a2953-c6da-43c9-9427-6a2e7036a401\" type=\"checkbox\" ><label for=\"469a2953-c6da-43c9-9427-6a2e7036a401\" class=\"sk-toggleable__label sk-toggleable__label-arrow\">Pipeline</label><div class=\"sk-toggleable__content\"><pre>Pipeline(steps=[(&#x27;scaling&#x27;, StandardScaler()), (&#x27;PCA&#x27;, PCA(n_components=5)),\n",
              "                (&#x27;SVC&#x27;, SVC())])</pre></div></div></div><div class=\"sk-serial\"><div class=\"sk-item\"><div class=\"sk-estimator sk-toggleable\"><input class=\"sk-toggleable__control sk-hidden--visually\" id=\"aa9b43c2-a33c-40c3-af9f-a12b3c23e70a\" type=\"checkbox\" ><label for=\"aa9b43c2-a33c-40c3-af9f-a12b3c23e70a\" class=\"sk-toggleable__label sk-toggleable__label-arrow\">StandardScaler</label><div class=\"sk-toggleable__content\"><pre>StandardScaler()</pre></div></div></div><div class=\"sk-item\"><div class=\"sk-estimator sk-toggleable\"><input class=\"sk-toggleable__control sk-hidden--visually\" id=\"4348578c-5186-4341-b697-788a71b6d4f9\" type=\"checkbox\" ><label for=\"4348578c-5186-4341-b697-788a71b6d4f9\" class=\"sk-toggleable__label sk-toggleable__label-arrow\">PCA</label><div class=\"sk-toggleable__content\"><pre>PCA(n_components=5)</pre></div></div></div><div class=\"sk-item\"><div class=\"sk-estimator sk-toggleable\"><input class=\"sk-toggleable__control sk-hidden--visually\" id=\"f5a7dc41-225a-407c-9ff8-cf82d365228e\" type=\"checkbox\" ><label for=\"f5a7dc41-225a-407c-9ff8-cf82d365228e\" class=\"sk-toggleable__label sk-toggleable__label-arrow\">SVC</label><div class=\"sk-toggleable__content\"><pre>SVC()</pre></div></div></div></div></div></div></div>"
            ]
          },
          "metadata": {},
          "execution_count": 21
        }
      ]
    },
    {
      "cell_type": "code",
      "source": [
        "pipe2.predict(X_test)"
      ],
      "metadata": {
        "colab": {
          "base_uri": "https://localhost:8080/"
        },
        "id": "YWSGPyG0_W1o",
        "outputId": "d9cf9f37-39f3-468a-bf37-cb290d845584"
      },
      "execution_count": null,
      "outputs": [
        {
          "output_type": "execute_result",
          "data": {
            "text/plain": [
              "array([1, 1, 0, 0, 0, 1, 1, 1, 0, 1, 0, 0, 1, 0, 0, 1, 0, 0, 0, 0, 0, 1,\n",
              "       1, 1, 1, 0, 1, 1, 1, 0, 1, 1, 1, 0, 0, 1, 0, 1, 0, 1, 0, 0, 0, 0,\n",
              "       1, 0, 0, 0, 0, 1, 1, 0, 1, 0, 1, 1, 0, 1, 0, 0, 1, 0, 0, 1, 0, 0,\n",
              "       0, 0, 1, 1, 1, 0, 0, 1, 1, 0, 1, 1, 1, 0, 0, 1, 1, 0, 0, 0, 0, 1,\n",
              "       0, 1, 0, 1, 0, 0, 0, 0, 1, 0, 0, 0, 0, 0, 0, 0, 0, 0, 1, 0, 1, 0,\n",
              "       0, 1, 1, 1, 0, 1, 1, 0, 0, 1, 1, 1, 1, 0, 1, 1, 1, 1, 1, 1, 0, 1,\n",
              "       0, 0, 1, 1, 1, 1, 0, 1, 1, 0, 0, 1, 1, 1, 1, 1, 1, 1, 1, 0, 0, 1,\n",
              "       1, 1, 1, 0, 0, 1, 0, 0, 1, 1, 0, 1, 1, 0, 1, 0, 1, 1, 1, 0, 1, 1,\n",
              "       0, 1, 1, 1, 1, 0, 0, 1, 1, 1, 1, 1, 0, 0, 0, 0, 0, 1, 1, 1, 1, 1,\n",
              "       0, 1, 0, 1, 0, 1, 0, 0, 0, 1, 0, 1, 0, 1, 0, 0, 1, 1, 1, 1, 0, 1,\n",
              "       1, 0, 1, 0, 1, 1, 1, 0, 0, 0, 0, 1, 1, 1, 0, 1, 1, 0, 0, 0, 1, 0,\n",
              "       0, 1, 0, 0, 0, 0, 0, 1, 1, 1, 1, 1, 0, 1, 0, 0, 0, 0, 0, 1, 0, 1,\n",
              "       0, 0, 0, 0, 1, 0, 1, 1, 0, 0, 1, 1, 1, 1, 1, 1, 0, 1, 0, 0, 0, 1,\n",
              "       1, 0, 1, 0, 0, 1, 1, 1, 0, 1, 0, 1, 1, 0, 1, 1, 0, 0, 1, 0, 1, 1,\n",
              "       0, 1, 0, 1, 0, 1, 1, 1, 1, 0, 0, 0, 1, 1, 1, 0, 1, 1, 0, 1, 1, 0])"
            ]
          },
          "metadata": {},
          "execution_count": 22
        }
      ]
    },
    {
      "cell_type": "markdown",
      "source": [
        "## Complex examples of columns transformer"
      ],
      "metadata": {
        "id": "5t-OloqY_jb7"
      }
    },
    {
      "cell_type": "code",
      "source": [
        "from sklearn.impute import SimpleImputer # for numerical data"
      ],
      "metadata": {
        "id": "JC9bDdt-_d4h"
      },
      "execution_count": null,
      "outputs": []
    },
    {
      "cell_type": "code",
      "source": [
        "import numpy as np\n"
      ],
      "metadata": {
        "id": "brirAGxiAWrZ"
      },
      "execution_count": null,
      "outputs": []
    },
    {
      "cell_type": "code",
      "source": [
        "## for numerical processing pipeline\n",
        "numeric_processor=Pipeline(\n",
        "    steps=[\n",
        "        (\"imputation_mean\",SimpleImputer(missing_values=np.nan,strategy='mean')),\n",
        "        (\"scaler\",StandardScaler())\n",
        "    ]\n",
        ")"
      ],
      "metadata": {
        "id": "SeZI-lkC_yyY"
      },
      "execution_count": null,
      "outputs": []
    },
    {
      "cell_type": "code",
      "source": [
        "numeric_processor"
      ],
      "metadata": {
        "colab": {
          "base_uri": "https://localhost:8080/",
          "height": 126
        },
        "id": "1_qm3fxyAyT2",
        "outputId": "96b3b356-f0b6-45f9-8d56-da1ff9f377de"
      },
      "execution_count": null,
      "outputs": [
        {
          "output_type": "execute_result",
          "data": {
            "text/plain": [
              "Pipeline(steps=[('imputation_mean', SimpleImputer()),\n",
              "                ('scaler', StandardScaler())])"
            ],
            "text/html": [
              "<style>#sk-6ee41184-d379-4048-bfd0-dc60d13f89a2 {color: black;background-color: white;}#sk-6ee41184-d379-4048-bfd0-dc60d13f89a2 pre{padding: 0;}#sk-6ee41184-d379-4048-bfd0-dc60d13f89a2 div.sk-toggleable {background-color: white;}#sk-6ee41184-d379-4048-bfd0-dc60d13f89a2 label.sk-toggleable__label {cursor: pointer;display: block;width: 100%;margin-bottom: 0;padding: 0.3em;box-sizing: border-box;text-align: center;}#sk-6ee41184-d379-4048-bfd0-dc60d13f89a2 label.sk-toggleable__label-arrow:before {content: \"▸\";float: left;margin-right: 0.25em;color: #696969;}#sk-6ee41184-d379-4048-bfd0-dc60d13f89a2 label.sk-toggleable__label-arrow:hover:before {color: black;}#sk-6ee41184-d379-4048-bfd0-dc60d13f89a2 div.sk-estimator:hover label.sk-toggleable__label-arrow:before {color: black;}#sk-6ee41184-d379-4048-bfd0-dc60d13f89a2 div.sk-toggleable__content {max-height: 0;max-width: 0;overflow: hidden;text-align: left;background-color: #f0f8ff;}#sk-6ee41184-d379-4048-bfd0-dc60d13f89a2 div.sk-toggleable__content pre {margin: 0.2em;color: black;border-radius: 0.25em;background-color: #f0f8ff;}#sk-6ee41184-d379-4048-bfd0-dc60d13f89a2 input.sk-toggleable__control:checked~div.sk-toggleable__content {max-height: 200px;max-width: 100%;overflow: auto;}#sk-6ee41184-d379-4048-bfd0-dc60d13f89a2 input.sk-toggleable__control:checked~label.sk-toggleable__label-arrow:before {content: \"▾\";}#sk-6ee41184-d379-4048-bfd0-dc60d13f89a2 div.sk-estimator input.sk-toggleable__control:checked~label.sk-toggleable__label {background-color: #d4ebff;}#sk-6ee41184-d379-4048-bfd0-dc60d13f89a2 div.sk-label input.sk-toggleable__control:checked~label.sk-toggleable__label {background-color: #d4ebff;}#sk-6ee41184-d379-4048-bfd0-dc60d13f89a2 input.sk-hidden--visually {border: 0;clip: rect(1px 1px 1px 1px);clip: rect(1px, 1px, 1px, 1px);height: 1px;margin: -1px;overflow: hidden;padding: 0;position: absolute;width: 1px;}#sk-6ee41184-d379-4048-bfd0-dc60d13f89a2 div.sk-estimator {font-family: monospace;background-color: #f0f8ff;border: 1px dotted black;border-radius: 0.25em;box-sizing: border-box;margin-bottom: 0.5em;}#sk-6ee41184-d379-4048-bfd0-dc60d13f89a2 div.sk-estimator:hover {background-color: #d4ebff;}#sk-6ee41184-d379-4048-bfd0-dc60d13f89a2 div.sk-parallel-item::after {content: \"\";width: 100%;border-bottom: 1px solid gray;flex-grow: 1;}#sk-6ee41184-d379-4048-bfd0-dc60d13f89a2 div.sk-label:hover label.sk-toggleable__label {background-color: #d4ebff;}#sk-6ee41184-d379-4048-bfd0-dc60d13f89a2 div.sk-serial::before {content: \"\";position: absolute;border-left: 1px solid gray;box-sizing: border-box;top: 2em;bottom: 0;left: 50%;}#sk-6ee41184-d379-4048-bfd0-dc60d13f89a2 div.sk-serial {display: flex;flex-direction: column;align-items: center;background-color: white;padding-right: 0.2em;padding-left: 0.2em;}#sk-6ee41184-d379-4048-bfd0-dc60d13f89a2 div.sk-item {z-index: 1;}#sk-6ee41184-d379-4048-bfd0-dc60d13f89a2 div.sk-parallel {display: flex;align-items: stretch;justify-content: center;background-color: white;}#sk-6ee41184-d379-4048-bfd0-dc60d13f89a2 div.sk-parallel::before {content: \"\";position: absolute;border-left: 1px solid gray;box-sizing: border-box;top: 2em;bottom: 0;left: 50%;}#sk-6ee41184-d379-4048-bfd0-dc60d13f89a2 div.sk-parallel-item {display: flex;flex-direction: column;position: relative;background-color: white;}#sk-6ee41184-d379-4048-bfd0-dc60d13f89a2 div.sk-parallel-item:first-child::after {align-self: flex-end;width: 50%;}#sk-6ee41184-d379-4048-bfd0-dc60d13f89a2 div.sk-parallel-item:last-child::after {align-self: flex-start;width: 50%;}#sk-6ee41184-d379-4048-bfd0-dc60d13f89a2 div.sk-parallel-item:only-child::after {width: 0;}#sk-6ee41184-d379-4048-bfd0-dc60d13f89a2 div.sk-dashed-wrapped {border: 1px dashed gray;margin: 0 0.4em 0.5em 0.4em;box-sizing: border-box;padding-bottom: 0.4em;background-color: white;position: relative;}#sk-6ee41184-d379-4048-bfd0-dc60d13f89a2 div.sk-label label {font-family: monospace;font-weight: bold;background-color: white;display: inline-block;line-height: 1.2em;}#sk-6ee41184-d379-4048-bfd0-dc60d13f89a2 div.sk-label-container {position: relative;z-index: 2;text-align: center;}#sk-6ee41184-d379-4048-bfd0-dc60d13f89a2 div.sk-container {/* jupyter's `normalize.less` sets `[hidden] { display: none; }` but bootstrap.min.css set `[hidden] { display: none !important; }` so we also need the `!important` here to be able to override the default hidden behavior on the sphinx rendered scikit-learn.org. See: https://github.com/scikit-learn/scikit-learn/issues/21755 */display: inline-block !important;position: relative;}#sk-6ee41184-d379-4048-bfd0-dc60d13f89a2 div.sk-text-repr-fallback {display: none;}</style><div id=\"sk-6ee41184-d379-4048-bfd0-dc60d13f89a2\" class=\"sk-top-container\"><div class=\"sk-text-repr-fallback\"><pre>Pipeline(steps=[(&#x27;imputation_mean&#x27;, SimpleImputer()),\n",
              "                (&#x27;scaler&#x27;, StandardScaler())])</pre><b>Please rerun this cell to show the HTML repr or trust the notebook.</b></div><div class=\"sk-container\" hidden><div class=\"sk-item sk-dashed-wrapped\"><div class=\"sk-label-container\"><div class=\"sk-label sk-toggleable\"><input class=\"sk-toggleable__control sk-hidden--visually\" id=\"9b68c1ce-58df-4fde-92a3-0ddf0d311db8\" type=\"checkbox\" ><label for=\"9b68c1ce-58df-4fde-92a3-0ddf0d311db8\" class=\"sk-toggleable__label sk-toggleable__label-arrow\">Pipeline</label><div class=\"sk-toggleable__content\"><pre>Pipeline(steps=[(&#x27;imputation_mean&#x27;, SimpleImputer()),\n",
              "                (&#x27;scaler&#x27;, StandardScaler())])</pre></div></div></div><div class=\"sk-serial\"><div class=\"sk-item\"><div class=\"sk-estimator sk-toggleable\"><input class=\"sk-toggleable__control sk-hidden--visually\" id=\"8cfde6d0-68e7-414e-8715-85881ed0473e\" type=\"checkbox\" ><label for=\"8cfde6d0-68e7-414e-8715-85881ed0473e\" class=\"sk-toggleable__label sk-toggleable__label-arrow\">SimpleImputer</label><div class=\"sk-toggleable__content\"><pre>SimpleImputer()</pre></div></div></div><div class=\"sk-item\"><div class=\"sk-estimator sk-toggleable\"><input class=\"sk-toggleable__control sk-hidden--visually\" id=\"a52140d8-5817-46c8-b407-3b30c2ea3788\" type=\"checkbox\" ><label for=\"a52140d8-5817-46c8-b407-3b30c2ea3788\" class=\"sk-toggleable__label sk-toggleable__label-arrow\">StandardScaler</label><div class=\"sk-toggleable__content\"><pre>StandardScaler()</pre></div></div></div></div></div></div></div>"
            ]
          },
          "metadata": {},
          "execution_count": 26
        }
      ]
    },
    {
      "cell_type": "code",
      "source": [
        "## for categorical processing pipeline\n",
        "from sklearn.preprocessing import OneHotEncoder\n",
        "categorical_processor=Pipeline(\n",
        "    steps=[\n",
        "        (\"imputation_mean\",SimpleImputer(fill_value='missing',strategy='constant')),\n",
        "        ('onehot',OneHotEncoder(handle_unknown='ignore'))\n",
        "    ]\n",
        ")"
      ],
      "metadata": {
        "id": "DIyve3p0A0-P"
      },
      "execution_count": null,
      "outputs": []
    },
    {
      "cell_type": "code",
      "source": [
        "## combine processing techniques\n",
        "from sklearn.compose import ColumnTransformer"
      ],
      "metadata": {
        "id": "gPal6A7qBC05"
      },
      "execution_count": null,
      "outputs": []
    },
    {
      "cell_type": "code",
      "source": [
        "preprocessor=ColumnTransformer(\n",
        "    [(\"categorical\",categorical_processor,['gender','city']),\n",
        "     (\"numerical\",numeric_processor,[\"age\",\"height\"])]\n",
        ")"
      ],
      "metadata": {
        "id": "1udJ0m1mCAN6"
      },
      "execution_count": null,
      "outputs": []
    },
    {
      "cell_type": "code",
      "source": [
        "preprocessor"
      ],
      "metadata": {
        "colab": {
          "base_uri": "https://localhost:8080/",
          "height": 152
        },
        "id": "OF6EbDsQCt5C",
        "outputId": "07e4315a-9b5a-4578-b739-fed150821ff5"
      },
      "execution_count": null,
      "outputs": [
        {
          "output_type": "execute_result",
          "data": {
            "text/plain": [
              "ColumnTransformer(transformers=[('categorical',\n",
              "                                 Pipeline(steps=[('imputation_mean',\n",
              "                                                  SimpleImputer(fill_value='missing',\n",
              "                                                                strategy='constant')),\n",
              "                                                 ('onehot',\n",
              "                                                  OneHotEncoder(handle_unknown='ignore'))]),\n",
              "                                 ['gender', 'city']),\n",
              "                                ('numerical',\n",
              "                                 Pipeline(steps=[('imputation_mean',\n",
              "                                                  SimpleImputer()),\n",
              "                                                 ('scaler', StandardScaler())]),\n",
              "                                 ['age', 'height'])])"
            ],
            "text/html": [
              "<style>#sk-86905de3-1ff7-4234-a079-4eec3a30da23 {color: black;background-color: white;}#sk-86905de3-1ff7-4234-a079-4eec3a30da23 pre{padding: 0;}#sk-86905de3-1ff7-4234-a079-4eec3a30da23 div.sk-toggleable {background-color: white;}#sk-86905de3-1ff7-4234-a079-4eec3a30da23 label.sk-toggleable__label {cursor: pointer;display: block;width: 100%;margin-bottom: 0;padding: 0.3em;box-sizing: border-box;text-align: center;}#sk-86905de3-1ff7-4234-a079-4eec3a30da23 label.sk-toggleable__label-arrow:before {content: \"▸\";float: left;margin-right: 0.25em;color: #696969;}#sk-86905de3-1ff7-4234-a079-4eec3a30da23 label.sk-toggleable__label-arrow:hover:before {color: black;}#sk-86905de3-1ff7-4234-a079-4eec3a30da23 div.sk-estimator:hover label.sk-toggleable__label-arrow:before {color: black;}#sk-86905de3-1ff7-4234-a079-4eec3a30da23 div.sk-toggleable__content {max-height: 0;max-width: 0;overflow: hidden;text-align: left;background-color: #f0f8ff;}#sk-86905de3-1ff7-4234-a079-4eec3a30da23 div.sk-toggleable__content pre {margin: 0.2em;color: black;border-radius: 0.25em;background-color: #f0f8ff;}#sk-86905de3-1ff7-4234-a079-4eec3a30da23 input.sk-toggleable__control:checked~div.sk-toggleable__content {max-height: 200px;max-width: 100%;overflow: auto;}#sk-86905de3-1ff7-4234-a079-4eec3a30da23 input.sk-toggleable__control:checked~label.sk-toggleable__label-arrow:before {content: \"▾\";}#sk-86905de3-1ff7-4234-a079-4eec3a30da23 div.sk-estimator input.sk-toggleable__control:checked~label.sk-toggleable__label {background-color: #d4ebff;}#sk-86905de3-1ff7-4234-a079-4eec3a30da23 div.sk-label input.sk-toggleable__control:checked~label.sk-toggleable__label {background-color: #d4ebff;}#sk-86905de3-1ff7-4234-a079-4eec3a30da23 input.sk-hidden--visually {border: 0;clip: rect(1px 1px 1px 1px);clip: rect(1px, 1px, 1px, 1px);height: 1px;margin: -1px;overflow: hidden;padding: 0;position: absolute;width: 1px;}#sk-86905de3-1ff7-4234-a079-4eec3a30da23 div.sk-estimator {font-family: monospace;background-color: #f0f8ff;border: 1px dotted black;border-radius: 0.25em;box-sizing: border-box;margin-bottom: 0.5em;}#sk-86905de3-1ff7-4234-a079-4eec3a30da23 div.sk-estimator:hover {background-color: #d4ebff;}#sk-86905de3-1ff7-4234-a079-4eec3a30da23 div.sk-parallel-item::after {content: \"\";width: 100%;border-bottom: 1px solid gray;flex-grow: 1;}#sk-86905de3-1ff7-4234-a079-4eec3a30da23 div.sk-label:hover label.sk-toggleable__label {background-color: #d4ebff;}#sk-86905de3-1ff7-4234-a079-4eec3a30da23 div.sk-serial::before {content: \"\";position: absolute;border-left: 1px solid gray;box-sizing: border-box;top: 2em;bottom: 0;left: 50%;}#sk-86905de3-1ff7-4234-a079-4eec3a30da23 div.sk-serial {display: flex;flex-direction: column;align-items: center;background-color: white;padding-right: 0.2em;padding-left: 0.2em;}#sk-86905de3-1ff7-4234-a079-4eec3a30da23 div.sk-item {z-index: 1;}#sk-86905de3-1ff7-4234-a079-4eec3a30da23 div.sk-parallel {display: flex;align-items: stretch;justify-content: center;background-color: white;}#sk-86905de3-1ff7-4234-a079-4eec3a30da23 div.sk-parallel::before {content: \"\";position: absolute;border-left: 1px solid gray;box-sizing: border-box;top: 2em;bottom: 0;left: 50%;}#sk-86905de3-1ff7-4234-a079-4eec3a30da23 div.sk-parallel-item {display: flex;flex-direction: column;position: relative;background-color: white;}#sk-86905de3-1ff7-4234-a079-4eec3a30da23 div.sk-parallel-item:first-child::after {align-self: flex-end;width: 50%;}#sk-86905de3-1ff7-4234-a079-4eec3a30da23 div.sk-parallel-item:last-child::after {align-self: flex-start;width: 50%;}#sk-86905de3-1ff7-4234-a079-4eec3a30da23 div.sk-parallel-item:only-child::after {width: 0;}#sk-86905de3-1ff7-4234-a079-4eec3a30da23 div.sk-dashed-wrapped {border: 1px dashed gray;margin: 0 0.4em 0.5em 0.4em;box-sizing: border-box;padding-bottom: 0.4em;background-color: white;position: relative;}#sk-86905de3-1ff7-4234-a079-4eec3a30da23 div.sk-label label {font-family: monospace;font-weight: bold;background-color: white;display: inline-block;line-height: 1.2em;}#sk-86905de3-1ff7-4234-a079-4eec3a30da23 div.sk-label-container {position: relative;z-index: 2;text-align: center;}#sk-86905de3-1ff7-4234-a079-4eec3a30da23 div.sk-container {/* jupyter's `normalize.less` sets `[hidden] { display: none; }` but bootstrap.min.css set `[hidden] { display: none !important; }` so we also need the `!important` here to be able to override the default hidden behavior on the sphinx rendered scikit-learn.org. See: https://github.com/scikit-learn/scikit-learn/issues/21755 */display: inline-block !important;position: relative;}#sk-86905de3-1ff7-4234-a079-4eec3a30da23 div.sk-text-repr-fallback {display: none;}</style><div id=\"sk-86905de3-1ff7-4234-a079-4eec3a30da23\" class=\"sk-top-container\"><div class=\"sk-text-repr-fallback\"><pre>ColumnTransformer(transformers=[(&#x27;categorical&#x27;,\n",
              "                                 Pipeline(steps=[(&#x27;imputation_mean&#x27;,\n",
              "                                                  SimpleImputer(fill_value=&#x27;missing&#x27;,\n",
              "                                                                strategy=&#x27;constant&#x27;)),\n",
              "                                                 (&#x27;onehot&#x27;,\n",
              "                                                  OneHotEncoder(handle_unknown=&#x27;ignore&#x27;))]),\n",
              "                                 [&#x27;gender&#x27;, &#x27;city&#x27;]),\n",
              "                                (&#x27;numerical&#x27;,\n",
              "                                 Pipeline(steps=[(&#x27;imputation_mean&#x27;,\n",
              "                                                  SimpleImputer()),\n",
              "                                                 (&#x27;scaler&#x27;, StandardScaler())]),\n",
              "                                 [&#x27;age&#x27;, &#x27;height&#x27;])])</pre><b>Please rerun this cell to show the HTML repr or trust the notebook.</b></div><div class=\"sk-container\" hidden><div class=\"sk-item sk-dashed-wrapped\"><div class=\"sk-label-container\"><div class=\"sk-label sk-toggleable\"><input class=\"sk-toggleable__control sk-hidden--visually\" id=\"bc82e169-c281-4855-b729-a89f0ef251de\" type=\"checkbox\" ><label for=\"bc82e169-c281-4855-b729-a89f0ef251de\" class=\"sk-toggleable__label sk-toggleable__label-arrow\">ColumnTransformer</label><div class=\"sk-toggleable__content\"><pre>ColumnTransformer(transformers=[(&#x27;categorical&#x27;,\n",
              "                                 Pipeline(steps=[(&#x27;imputation_mean&#x27;,\n",
              "                                                  SimpleImputer(fill_value=&#x27;missing&#x27;,\n",
              "                                                                strategy=&#x27;constant&#x27;)),\n",
              "                                                 (&#x27;onehot&#x27;,\n",
              "                                                  OneHotEncoder(handle_unknown=&#x27;ignore&#x27;))]),\n",
              "                                 [&#x27;gender&#x27;, &#x27;city&#x27;]),\n",
              "                                (&#x27;numerical&#x27;,\n",
              "                                 Pipeline(steps=[(&#x27;imputation_mean&#x27;,\n",
              "                                                  SimpleImputer()),\n",
              "                                                 (&#x27;scaler&#x27;, StandardScaler())]),\n",
              "                                 [&#x27;age&#x27;, &#x27;height&#x27;])])</pre></div></div></div><div class=\"sk-parallel\"><div class=\"sk-parallel-item\"><div class=\"sk-item\"><div class=\"sk-label-container\"><div class=\"sk-label sk-toggleable\"><input class=\"sk-toggleable__control sk-hidden--visually\" id=\"73af04f2-2846-4028-bd0e-67bede7a1582\" type=\"checkbox\" ><label for=\"73af04f2-2846-4028-bd0e-67bede7a1582\" class=\"sk-toggleable__label sk-toggleable__label-arrow\">categorical</label><div class=\"sk-toggleable__content\"><pre>[&#x27;gender&#x27;, &#x27;city&#x27;]</pre></div></div></div><div class=\"sk-serial\"><div class=\"sk-item\"><div class=\"sk-serial\"><div class=\"sk-item\"><div class=\"sk-estimator sk-toggleable\"><input class=\"sk-toggleable__control sk-hidden--visually\" id=\"84620133-08f0-4bc1-8993-e204fd18d265\" type=\"checkbox\" ><label for=\"84620133-08f0-4bc1-8993-e204fd18d265\" class=\"sk-toggleable__label sk-toggleable__label-arrow\">SimpleImputer</label><div class=\"sk-toggleable__content\"><pre>SimpleImputer(fill_value=&#x27;missing&#x27;, strategy=&#x27;constant&#x27;)</pre></div></div></div><div class=\"sk-item\"><div class=\"sk-estimator sk-toggleable\"><input class=\"sk-toggleable__control sk-hidden--visually\" id=\"0727b0de-aeb0-489b-a6cb-fa85697ae6e3\" type=\"checkbox\" ><label for=\"0727b0de-aeb0-489b-a6cb-fa85697ae6e3\" class=\"sk-toggleable__label sk-toggleable__label-arrow\">OneHotEncoder</label><div class=\"sk-toggleable__content\"><pre>OneHotEncoder(handle_unknown=&#x27;ignore&#x27;)</pre></div></div></div></div></div></div></div></div><div class=\"sk-parallel-item\"><div class=\"sk-item\"><div class=\"sk-label-container\"><div class=\"sk-label sk-toggleable\"><input class=\"sk-toggleable__control sk-hidden--visually\" id=\"7f056e09-6852-4a07-98eb-0e52d4ed6d4f\" type=\"checkbox\" ><label for=\"7f056e09-6852-4a07-98eb-0e52d4ed6d4f\" class=\"sk-toggleable__label sk-toggleable__label-arrow\">numerical</label><div class=\"sk-toggleable__content\"><pre>[&#x27;age&#x27;, &#x27;height&#x27;]</pre></div></div></div><div class=\"sk-serial\"><div class=\"sk-item\"><div class=\"sk-serial\"><div class=\"sk-item\"><div class=\"sk-estimator sk-toggleable\"><input class=\"sk-toggleable__control sk-hidden--visually\" id=\"ba840df8-802f-4489-bc2a-be3caec64e86\" type=\"checkbox\" ><label for=\"ba840df8-802f-4489-bc2a-be3caec64e86\" class=\"sk-toggleable__label sk-toggleable__label-arrow\">SimpleImputer</label><div class=\"sk-toggleable__content\"><pre>SimpleImputer()</pre></div></div></div><div class=\"sk-item\"><div class=\"sk-estimator sk-toggleable\"><input class=\"sk-toggleable__control sk-hidden--visually\" id=\"a4f8c673-f56b-4341-a0c8-234f7ee29712\" type=\"checkbox\" ><label for=\"a4f8c673-f56b-4341-a0c8-234f7ee29712\" class=\"sk-toggleable__label sk-toggleable__label-arrow\">StandardScaler</label><div class=\"sk-toggleable__content\"><pre>StandardScaler()</pre></div></div></div></div></div></div></div></div></div></div></div></div>"
            ]
          },
          "metadata": {},
          "execution_count": 32
        }
      ]
    },
    {
      "cell_type": "code",
      "source": [
        "from sklearn.pipeline import make_pipeline\n"
      ],
      "metadata": {
        "id": "AyzstRHpCwx6"
      },
      "execution_count": null,
      "outputs": []
    },
    {
      "cell_type": "code",
      "source": [
        "pipe=make_pipeline(preprocessor,LogisticRegression())"
      ],
      "metadata": {
        "id": "dSwYMkKXC--B"
      },
      "execution_count": null,
      "outputs": []
    },
    {
      "cell_type": "code",
      "source": [
        "pipe"
      ],
      "metadata": {
        "id": "Mwm9pgaLDMix",
        "outputId": "f6ad32d1-acf1-43d9-a6b8-81d6b6028cb7",
        "colab": {
          "base_uri": "https://localhost:8080/",
          "height": 227
        }
      },
      "execution_count": null,
      "outputs": [
        {
          "output_type": "execute_result",
          "data": {
            "text/plain": [
              "Pipeline(steps=[('columntransformer',\n",
              "                 ColumnTransformer(transformers=[('categorical',\n",
              "                                                  Pipeline(steps=[('imputation_mean',\n",
              "                                                                   SimpleImputer(fill_value='missing',\n",
              "                                                                                 strategy='constant')),\n",
              "                                                                  ('onehot',\n",
              "                                                                   OneHotEncoder(handle_unknown='ignore'))]),\n",
              "                                                  ['gender', 'city']),\n",
              "                                                 ('numerical',\n",
              "                                                  Pipeline(steps=[('imputation_mean',\n",
              "                                                                   SimpleImputer()),\n",
              "                                                                  ('scaler',\n",
              "                                                                   StandardScaler())]),\n",
              "                                                  ['age', 'height'])])),\n",
              "                ('logisticregression', LogisticRegression())])"
            ],
            "text/html": [
              "<style>#sk-55fc563a-f918-4a0b-9870-771f4231db47 {color: black;background-color: white;}#sk-55fc563a-f918-4a0b-9870-771f4231db47 pre{padding: 0;}#sk-55fc563a-f918-4a0b-9870-771f4231db47 div.sk-toggleable {background-color: white;}#sk-55fc563a-f918-4a0b-9870-771f4231db47 label.sk-toggleable__label {cursor: pointer;display: block;width: 100%;margin-bottom: 0;padding: 0.3em;box-sizing: border-box;text-align: center;}#sk-55fc563a-f918-4a0b-9870-771f4231db47 label.sk-toggleable__label-arrow:before {content: \"▸\";float: left;margin-right: 0.25em;color: #696969;}#sk-55fc563a-f918-4a0b-9870-771f4231db47 label.sk-toggleable__label-arrow:hover:before {color: black;}#sk-55fc563a-f918-4a0b-9870-771f4231db47 div.sk-estimator:hover label.sk-toggleable__label-arrow:before {color: black;}#sk-55fc563a-f918-4a0b-9870-771f4231db47 div.sk-toggleable__content {max-height: 0;max-width: 0;overflow: hidden;text-align: left;background-color: #f0f8ff;}#sk-55fc563a-f918-4a0b-9870-771f4231db47 div.sk-toggleable__content pre {margin: 0.2em;color: black;border-radius: 0.25em;background-color: #f0f8ff;}#sk-55fc563a-f918-4a0b-9870-771f4231db47 input.sk-toggleable__control:checked~div.sk-toggleable__content {max-height: 200px;max-width: 100%;overflow: auto;}#sk-55fc563a-f918-4a0b-9870-771f4231db47 input.sk-toggleable__control:checked~label.sk-toggleable__label-arrow:before {content: \"▾\";}#sk-55fc563a-f918-4a0b-9870-771f4231db47 div.sk-estimator input.sk-toggleable__control:checked~label.sk-toggleable__label {background-color: #d4ebff;}#sk-55fc563a-f918-4a0b-9870-771f4231db47 div.sk-label input.sk-toggleable__control:checked~label.sk-toggleable__label {background-color: #d4ebff;}#sk-55fc563a-f918-4a0b-9870-771f4231db47 input.sk-hidden--visually {border: 0;clip: rect(1px 1px 1px 1px);clip: rect(1px, 1px, 1px, 1px);height: 1px;margin: -1px;overflow: hidden;padding: 0;position: absolute;width: 1px;}#sk-55fc563a-f918-4a0b-9870-771f4231db47 div.sk-estimator {font-family: monospace;background-color: #f0f8ff;border: 1px dotted black;border-radius: 0.25em;box-sizing: border-box;margin-bottom: 0.5em;}#sk-55fc563a-f918-4a0b-9870-771f4231db47 div.sk-estimator:hover {background-color: #d4ebff;}#sk-55fc563a-f918-4a0b-9870-771f4231db47 div.sk-parallel-item::after {content: \"\";width: 100%;border-bottom: 1px solid gray;flex-grow: 1;}#sk-55fc563a-f918-4a0b-9870-771f4231db47 div.sk-label:hover label.sk-toggleable__label {background-color: #d4ebff;}#sk-55fc563a-f918-4a0b-9870-771f4231db47 div.sk-serial::before {content: \"\";position: absolute;border-left: 1px solid gray;box-sizing: border-box;top: 2em;bottom: 0;left: 50%;}#sk-55fc563a-f918-4a0b-9870-771f4231db47 div.sk-serial {display: flex;flex-direction: column;align-items: center;background-color: white;padding-right: 0.2em;padding-left: 0.2em;}#sk-55fc563a-f918-4a0b-9870-771f4231db47 div.sk-item {z-index: 1;}#sk-55fc563a-f918-4a0b-9870-771f4231db47 div.sk-parallel {display: flex;align-items: stretch;justify-content: center;background-color: white;}#sk-55fc563a-f918-4a0b-9870-771f4231db47 div.sk-parallel::before {content: \"\";position: absolute;border-left: 1px solid gray;box-sizing: border-box;top: 2em;bottom: 0;left: 50%;}#sk-55fc563a-f918-4a0b-9870-771f4231db47 div.sk-parallel-item {display: flex;flex-direction: column;position: relative;background-color: white;}#sk-55fc563a-f918-4a0b-9870-771f4231db47 div.sk-parallel-item:first-child::after {align-self: flex-end;width: 50%;}#sk-55fc563a-f918-4a0b-9870-771f4231db47 div.sk-parallel-item:last-child::after {align-self: flex-start;width: 50%;}#sk-55fc563a-f918-4a0b-9870-771f4231db47 div.sk-parallel-item:only-child::after {width: 0;}#sk-55fc563a-f918-4a0b-9870-771f4231db47 div.sk-dashed-wrapped {border: 1px dashed gray;margin: 0 0.4em 0.5em 0.4em;box-sizing: border-box;padding-bottom: 0.4em;background-color: white;position: relative;}#sk-55fc563a-f918-4a0b-9870-771f4231db47 div.sk-label label {font-family: monospace;font-weight: bold;background-color: white;display: inline-block;line-height: 1.2em;}#sk-55fc563a-f918-4a0b-9870-771f4231db47 div.sk-label-container {position: relative;z-index: 2;text-align: center;}#sk-55fc563a-f918-4a0b-9870-771f4231db47 div.sk-container {/* jupyter's `normalize.less` sets `[hidden] { display: none; }` but bootstrap.min.css set `[hidden] { display: none !important; }` so we also need the `!important` here to be able to override the default hidden behavior on the sphinx rendered scikit-learn.org. See: https://github.com/scikit-learn/scikit-learn/issues/21755 */display: inline-block !important;position: relative;}#sk-55fc563a-f918-4a0b-9870-771f4231db47 div.sk-text-repr-fallback {display: none;}</style><div id=\"sk-55fc563a-f918-4a0b-9870-771f4231db47\" class=\"sk-top-container\"><div class=\"sk-text-repr-fallback\"><pre>Pipeline(steps=[(&#x27;columntransformer&#x27;,\n",
              "                 ColumnTransformer(transformers=[(&#x27;categorical&#x27;,\n",
              "                                                  Pipeline(steps=[(&#x27;imputation_mean&#x27;,\n",
              "                                                                   SimpleImputer(fill_value=&#x27;missing&#x27;,\n",
              "                                                                                 strategy=&#x27;constant&#x27;)),\n",
              "                                                                  (&#x27;onehot&#x27;,\n",
              "                                                                   OneHotEncoder(handle_unknown=&#x27;ignore&#x27;))]),\n",
              "                                                  [&#x27;gender&#x27;, &#x27;city&#x27;]),\n",
              "                                                 (&#x27;numerical&#x27;,\n",
              "                                                  Pipeline(steps=[(&#x27;imputation_mean&#x27;,\n",
              "                                                                   SimpleImputer()),\n",
              "                                                                  (&#x27;scaler&#x27;,\n",
              "                                                                   StandardScaler())]),\n",
              "                                                  [&#x27;age&#x27;, &#x27;height&#x27;])])),\n",
              "                (&#x27;logisticregression&#x27;, LogisticRegression())])</pre><b>Please rerun this cell to show the HTML repr or trust the notebook.</b></div><div class=\"sk-container\" hidden><div class=\"sk-item sk-dashed-wrapped\"><div class=\"sk-label-container\"><div class=\"sk-label sk-toggleable\"><input class=\"sk-toggleable__control sk-hidden--visually\" id=\"916d6d8a-5fce-42b8-a849-5b89e335aa5b\" type=\"checkbox\" ><label for=\"916d6d8a-5fce-42b8-a849-5b89e335aa5b\" class=\"sk-toggleable__label sk-toggleable__label-arrow\">Pipeline</label><div class=\"sk-toggleable__content\"><pre>Pipeline(steps=[(&#x27;columntransformer&#x27;,\n",
              "                 ColumnTransformer(transformers=[(&#x27;categorical&#x27;,\n",
              "                                                  Pipeline(steps=[(&#x27;imputation_mean&#x27;,\n",
              "                                                                   SimpleImputer(fill_value=&#x27;missing&#x27;,\n",
              "                                                                                 strategy=&#x27;constant&#x27;)),\n",
              "                                                                  (&#x27;onehot&#x27;,\n",
              "                                                                   OneHotEncoder(handle_unknown=&#x27;ignore&#x27;))]),\n",
              "                                                  [&#x27;gender&#x27;, &#x27;city&#x27;]),\n",
              "                                                 (&#x27;numerical&#x27;,\n",
              "                                                  Pipeline(steps=[(&#x27;imputation_mean&#x27;,\n",
              "                                                                   SimpleImputer()),\n",
              "                                                                  (&#x27;scaler&#x27;,\n",
              "                                                                   StandardScaler())]),\n",
              "                                                  [&#x27;age&#x27;, &#x27;height&#x27;])])),\n",
              "                (&#x27;logisticregression&#x27;, LogisticRegression())])</pre></div></div></div><div class=\"sk-serial\"><div class=\"sk-item sk-dashed-wrapped\"><div class=\"sk-label-container\"><div class=\"sk-label sk-toggleable\"><input class=\"sk-toggleable__control sk-hidden--visually\" id=\"fca2b9c3-6ecb-4b97-864d-a1503281334f\" type=\"checkbox\" ><label for=\"fca2b9c3-6ecb-4b97-864d-a1503281334f\" class=\"sk-toggleable__label sk-toggleable__label-arrow\">columntransformer: ColumnTransformer</label><div class=\"sk-toggleable__content\"><pre>ColumnTransformer(transformers=[(&#x27;categorical&#x27;,\n",
              "                                 Pipeline(steps=[(&#x27;imputation_mean&#x27;,\n",
              "                                                  SimpleImputer(fill_value=&#x27;missing&#x27;,\n",
              "                                                                strategy=&#x27;constant&#x27;)),\n",
              "                                                 (&#x27;onehot&#x27;,\n",
              "                                                  OneHotEncoder(handle_unknown=&#x27;ignore&#x27;))]),\n",
              "                                 [&#x27;gender&#x27;, &#x27;city&#x27;]),\n",
              "                                (&#x27;numerical&#x27;,\n",
              "                                 Pipeline(steps=[(&#x27;imputation_mean&#x27;,\n",
              "                                                  SimpleImputer()),\n",
              "                                                 (&#x27;scaler&#x27;, StandardScaler())]),\n",
              "                                 [&#x27;age&#x27;, &#x27;height&#x27;])])</pre></div></div></div><div class=\"sk-parallel\"><div class=\"sk-parallel-item\"><div class=\"sk-item\"><div class=\"sk-label-container\"><div class=\"sk-label sk-toggleable\"><input class=\"sk-toggleable__control sk-hidden--visually\" id=\"196f1587-aa93-424f-90fe-15f93480b3a3\" type=\"checkbox\" ><label for=\"196f1587-aa93-424f-90fe-15f93480b3a3\" class=\"sk-toggleable__label sk-toggleable__label-arrow\">categorical</label><div class=\"sk-toggleable__content\"><pre>[&#x27;gender&#x27;, &#x27;city&#x27;]</pre></div></div></div><div class=\"sk-serial\"><div class=\"sk-item\"><div class=\"sk-serial\"><div class=\"sk-item\"><div class=\"sk-estimator sk-toggleable\"><input class=\"sk-toggleable__control sk-hidden--visually\" id=\"215f1890-4365-4577-8c63-f407284f0058\" type=\"checkbox\" ><label for=\"215f1890-4365-4577-8c63-f407284f0058\" class=\"sk-toggleable__label sk-toggleable__label-arrow\">SimpleImputer</label><div class=\"sk-toggleable__content\"><pre>SimpleImputer(fill_value=&#x27;missing&#x27;, strategy=&#x27;constant&#x27;)</pre></div></div></div><div class=\"sk-item\"><div class=\"sk-estimator sk-toggleable\"><input class=\"sk-toggleable__control sk-hidden--visually\" id=\"222523fc-01b4-4470-ac16-009487f0a535\" type=\"checkbox\" ><label for=\"222523fc-01b4-4470-ac16-009487f0a535\" class=\"sk-toggleable__label sk-toggleable__label-arrow\">OneHotEncoder</label><div class=\"sk-toggleable__content\"><pre>OneHotEncoder(handle_unknown=&#x27;ignore&#x27;)</pre></div></div></div></div></div></div></div></div><div class=\"sk-parallel-item\"><div class=\"sk-item\"><div class=\"sk-label-container\"><div class=\"sk-label sk-toggleable\"><input class=\"sk-toggleable__control sk-hidden--visually\" id=\"8fea5cea-0d25-4672-8e4a-0dda40ada997\" type=\"checkbox\" ><label for=\"8fea5cea-0d25-4672-8e4a-0dda40ada997\" class=\"sk-toggleable__label sk-toggleable__label-arrow\">numerical</label><div class=\"sk-toggleable__content\"><pre>[&#x27;age&#x27;, &#x27;height&#x27;]</pre></div></div></div><div class=\"sk-serial\"><div class=\"sk-item\"><div class=\"sk-serial\"><div class=\"sk-item\"><div class=\"sk-estimator sk-toggleable\"><input class=\"sk-toggleable__control sk-hidden--visually\" id=\"158c62ab-6622-4eaa-9492-17553b6b7fb3\" type=\"checkbox\" ><label for=\"158c62ab-6622-4eaa-9492-17553b6b7fb3\" class=\"sk-toggleable__label sk-toggleable__label-arrow\">SimpleImputer</label><div class=\"sk-toggleable__content\"><pre>SimpleImputer()</pre></div></div></div><div class=\"sk-item\"><div class=\"sk-estimator sk-toggleable\"><input class=\"sk-toggleable__control sk-hidden--visually\" id=\"000ee2bd-93b7-4c17-92ec-dde9eb18ff38\" type=\"checkbox\" ><label for=\"000ee2bd-93b7-4c17-92ec-dde9eb18ff38\" class=\"sk-toggleable__label sk-toggleable__label-arrow\">StandardScaler</label><div class=\"sk-toggleable__content\"><pre>StandardScaler()</pre></div></div></div></div></div></div></div></div></div></div><div class=\"sk-item\"><div class=\"sk-estimator sk-toggleable\"><input class=\"sk-toggleable__control sk-hidden--visually\" id=\"bf454b30-019a-4ffa-b778-91a879d34cc6\" type=\"checkbox\" ><label for=\"bf454b30-019a-4ffa-b778-91a879d34cc6\" class=\"sk-toggleable__label sk-toggleable__label-arrow\">LogisticRegression</label><div class=\"sk-toggleable__content\"><pre>LogisticRegression()</pre></div></div></div></div></div></div></div>"
            ]
          },
          "metadata": {},
          "execution_count": 35
        }
      ]
    },
    {
      "cell_type": "code",
      "source": [],
      "metadata": {
        "id": "Hl-wgKuuDNFq"
      },
      "execution_count": null,
      "outputs": []
    }
  ]
}